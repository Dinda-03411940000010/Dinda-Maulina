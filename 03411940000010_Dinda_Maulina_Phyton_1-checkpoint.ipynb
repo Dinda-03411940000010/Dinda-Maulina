{
 "cells": [
  {
   "cell_type": "code",
   "execution_count": 1,
   "metadata": {},
   "outputs": [
    {
     "name": "stdout",
     "output_type": "stream",
     "text": [
      "Sediki Parah\n",
      "Tidak perlu dirawat saluran akar\n"
     ]
    }
   ],
   "source": [
    "Diabetes = True\n",
    "Gigi = False\n",
    "Caries = True\n",
    "\n",
    "if Diabetes == True: #Jika orang tersebut menderita Diabetes\n",
    "    if Gigi == True: #Jika orang tersebut Diabetes dan giginya goyang\n",
    "        print ('Sudah Parah')\n",
    "        if Caries == True: #Jika orang tersebut Diabetes, giginya goyang dan berlubang\n",
    "            print ('Harus dirawat saluran akar')\n",
    "        else: #Jika orang tersebut Diabetes, giginya goyang tetapi tidak berlubang\n",
    "            print ('Harus diberi gusi palsu')\n",
    "    else: #Jika orang tersebut Diabetes, tetapi giginya tidak goyang\n",
    "        print ('Sediki Parah')\n",
    "        if Caries == True: #Jika orang tersebut Diabetes, giginya tidak goyang tetapi berlubang\n",
    "            print ('Tidak perlu dirawat saluran akar')\n",
    "        else: #Jika orang tersebut Diabetes, giginya tidak goyang dan tidak berlubang\n",
    "            print ('Tidak perlu diberi gusi palsu')\n",
    "else: #Jika orang tersebut tidak menderita Diabetes\n",
    "    if Gigi == True: #Jika orang tersebut tidak menderita Diabetes, tetapi giginya goyang\n",
    "        print ('Belum Parah')\n",
    "        if Caries == True: #Jika orang tersebut tidak menderita Diabetes, tetapi giginya goyang dan berlubang\n",
    "            print ('Dipasang kawat dan perlu ditambal giginya')\n",
    "        else: #Jika orang tersebut tidak menderita Diabetes, tetapi giginya goyang dan tidak berlubang\n",
    "            print ('Dipasang kawat, tetapi tidak perlu ditambal giginya')\n",
    "    else: #Jika orang tersebut tidak menderita Diabetes dan giginya tidak goyang\n",
    "        print ('Tidak Parah')\n",
    "        if Caries == True: #Jika orang tersebut tidak menderita Diabetes dan giginya tidak goyang, tetapi berlubang\n",
    "            print ('Hanya perlu ditambal giginya')\n",
    "        else: #Jika orang tersebut tidak menderita Diabetes dan giginya tidak goyang maupun berlubang\n",
    "            print ('Tidak perlu di apa-apa kan')"
   ]
  },
  {
   "cell_type": "code",
   "execution_count": 2,
   "metadata": {},
   "outputs": [
    {
     "name": "stdout",
     "output_type": "stream",
     "text": [
      "Nama = Dinda Maulina\n",
      "NRP = 03411940000010\n",
      "Nilai Total =  76.0\n",
      "Nilai Akhir = B\n"
     ]
    }
   ],
   "source": [
    "Nama = input ('Nama = ')\n",
    "NRP = input ('NRP = ')\n",
    "\n",
    "Tugas = 80 \n",
    "Quiz = 60\n",
    "ETS = 85\n",
    "EAS = 75\n",
    "\n",
    "Nilai = (Tugas*0.2 + Quiz*0.2 + ETS*0.3 + EAS*0.3)\n",
    "print('Nilai Total = ', str(Nilai))\n",
    "\n",
    "if Nilai >= 90:\n",
    "    print('Nilai Akhir = A')\n",
    "elif 85 <= Nilai < 90:\n",
    "    print('Nilai Akhir = AB')\n",
    "elif 75 <= Nilai < 85:\n",
    "    print('Nilai Akhir = B')\n",
    "elif 65 <= Nilai < 75:\n",
    "    print('Nilai Akhir = BC')\n",
    "elif 55 <= Nilai < 65:\n",
    "    print('Nilai Akhir = C')\n",
    "elif 40 <= Nilai < 55:\n",
    "    print('Nilai Akhir = D')\n",
    "else:\n",
    "    print('Nilai Akhir = E')\n"
   ]
  },
  {
   "cell_type": "code",
   "execution_count": 19,
   "metadata": {},
   "outputs": [
    {
     "name": "stdout",
     "output_type": "stream",
     "text": [
      "Penderita Diabetes : Ari\n",
      "Penderita Diabetes : Gunawan\n",
      "Penderita Diabetes : Darman\n",
      "Penderita Diabetes : Suparman\n",
      "Penderita Diabetes : Tris\n",
      "Penderita Diabetes : Sutarman\n",
      "Penderita Diabetes : Siti\n",
      "Penderita Diabetes : Bambang\n"
     ]
    }
   ],
   "source": [
    "x = ['Ari', 'Gunawan', 'Darman', 'Suparman', 'Tris', 'Sutarman', 'Siti', 'Bambang']\n",
    "for Diabetes in x:\n",
    "    print('Penderita Diabetes :', Diabetes)\n",
    "        "
   ]
  },
  {
   "cell_type": "code",
   "execution_count": 15,
   "metadata": {},
   "outputs": [
    {
     "name": "stdout",
     "output_type": "stream",
     "text": [
      "Bilangan kelipatan 3 adalah 3\n",
      "Bilangan kelipatan 3 adalah 6\n",
      "Bilangan kelipatan 3 adalah 9\n",
      "Bilangan kelipatan 3 adalah 12\n",
      "Bilangan kelipatan 3 adalah 15\n",
      "Bilangan kelipatan 3 adalah 18\n"
     ]
    }
   ],
   "source": [
    "x = 3\n",
    "while x < 20 :\n",
    "    print ('Bilangan kelipatan 3 adalah', x)\n",
    "    x += 3"
   ]
  },
  {
   "cell_type": "code",
   "execution_count": null,
   "metadata": {},
   "outputs": [],
   "source": []
  }
 ],
 "metadata": {
  "kernelspec": {
   "display_name": "Python 3",
   "language": "python",
   "name": "python3"
  },
  "language_info": {
   "codemirror_mode": {
    "name": "ipython",
    "version": 3
   },
   "file_extension": ".py",
   "mimetype": "text/x-python",
   "name": "python",
   "nbconvert_exporter": "python",
   "pygments_lexer": "ipython3",
   "version": "3.7.4"
  }
 },
 "nbformat": 4,
 "nbformat_minor": 2
}
